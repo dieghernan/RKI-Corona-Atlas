{
 "cells": [
  {
   "cell_type": "code",
   "execution_count": 1,
   "id": "0efa958f-841d-4d9c-9422-279f3e51789e",
   "metadata": {},
   "outputs": [],
   "source": [
    "import re\n",
    "from datetime import datetime as dt\n",
    "from pathlib import Path\n",
    "\n",
    "import numpy as np\n",
    "import pandas as pd"
   ]
  },
  {
   "cell_type": "code",
   "execution_count": 2,
   "id": "8b58368c-6651-40b7-8f1d-691b279c14a2",
   "metadata": {},
   "outputs": [],
   "source": [
    "date_format = '%Y-%m-%d'\n",
    "\n",
    "assets = Path(\"../assets\")\n",
    "db_path = assets/\"data\"/\"db_scraped.csv\"\n",
    "\n",
    "db_countries = pd.read_csv(db_path)\n",
    "db_countries[\"region\"].fillna(False, inplace=True)"
   ]
  },
  {
   "cell_type": "code",
   "execution_count": 3,
   "id": "f7ba0067-b1c1-4372-8add-e1e2fe06818a",
   "metadata": {},
   "outputs": [],
   "source": [
    "iso_codes = db_countries.query('~region')[\"ISO3_CODE\"]\n",
    "weeks21 = pd.date_range(start=\"20210101\", end=\"20211231\", freq='W').tolist()\n",
    "\n",
    "country_len, week_len = len(iso_codes), len(weeks21)\n",
    "\n",
    "mockup_df = pd.DataFrame(np.random.randint(0,5,size=(week_len, country_len)),\n",
    "                         columns=iso_codes, index=weeks21).astype(int)\n",
    "mockup_df.to_csv('mockup.csv', date_format=date_format)"
   ]
  },
  {
   "cell_type": "code",
   "execution_count": null,
   "id": "ad97732e-8e5b-46a2-8cdf-ed839e3bb798",
   "metadata": {},
   "outputs": [],
   "source": []
  }
 ],
 "metadata": {
  "kernelspec": {
   "display_name": "Python 3 (ipykernel)",
   "language": "python",
   "name": "python3"
  },
  "language_info": {
   "codemirror_mode": {
    "name": "ipython",
    "version": 3
   },
   "file_extension": ".py",
   "mimetype": "text/x-python",
   "name": "python",
   "nbconvert_exporter": "python",
   "pygments_lexer": "ipython3",
   "version": "3.9.7"
  }
 },
 "nbformat": 4,
 "nbformat_minor": 5
}
